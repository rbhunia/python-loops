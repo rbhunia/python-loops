{
 "cells": [
  {
   "cell_type": "code",
   "execution_count": 1,
   "id": "f04ff6a0ea29e67c",
   "metadata": {
    "ExecuteTime": {
     "end_time": "2024-11-02T11:44:07.534013Z",
     "start_time": "2024-11-02T11:44:07.514124Z"
    },
    "collapsed": false
   },
   "outputs": [
    {
     "name": "stdout",
     "output_type": "stream",
     "text": [
      "0 apple\n",
      "1 banana\n",
      "2 cherry\n"
     ]
    }
   ],
   "source": [
    "fruits = ['apple', 'banana', 'cherry']\n",
    "for i in range(len(fruits)):\n",
    "    print(i, fruits[i])"
   ]
  },
  {
   "metadata": {},
   "cell_type": "code",
   "outputs": [],
   "execution_count": null,
   "source": [
    "ages = {'Alice': 25, 'Bob': 30, 'Charlie': 35}\n",
    "\n",
    "# Looping over dictionary keys\n",
    "for key in ages.keys():\n",
    "    print(key)\n",
    "\n",
    "# Looping over dictionary values\n",
    "for value in ages.values():\n",
    "    print(value)\n",
    "\n",
    "# Looping over dictionary keys and values\n",
    "for key, value in ages.items():\n",
    "    print(f\"{key} is {value} years old\")\n",
    "\n",
    "# Looping over dictionary with index\n",
    "for index, (key, value) in enumerate(ages.items()):\n",
    "    print(f\"{index}: {key} is {value} years old\")"
   ],
   "id": "e023af24df871558"
  },
  {
   "metadata": {},
   "cell_type": "code",
   "outputs": [],
   "execution_count": null,
   "source": [
    "\n",
    "ages = {'Alice': 25, 'Bob': 30, 'Charlie': 35}\n",
    "for name, age in ages.items():\n",
    "    print(name, age)\n"
   ],
   "id": "3bb52652b9bd6858"
  },
  {
   "metadata": {},
   "cell_type": "code",
   "outputs": [],
   "execution_count": null,
   "source": [
    "# Looping keys and checking if key exists before printing\n",
    "ages = {'Alice': 25, 'Bob': 30, 'Charlie': 35, 'David': 40}\n",
    "keys_to_check = ['Alice', 'Charlie', 'Eve']\n",
    "for key in keys_to_check:\n",
    "    if key in ages:\n",
    "        print(f\"Age of {key} is {ages[key]}\")\n",
    "\n",
    "# Looping values with condition\n",
    "for value in ages.values():\n",
    "    if value > 30:\n",
    "        print(f\"Age {value} is greater than 30\")\n",
    "\n",
    "# Looping dictionary to create a new dictionary with ages incremented by 5\n",
    "new_ages = {key: value + 5 for key, value in ages.items()}\n",
    "print(new_ages)\n",
    "\n",
    "# Looping dictionary sorted by keys\n",
    "for key in sorted(ages.keys()):\n",
    "    print(f\"{key}: {ages[key]}\")\n",
    "\n",
    "# Looping dictionary sorted by values\n",
    "for key, value in sorted(ages.items(), key=lambda item: item[1]):\n",
    "    print(f\"{key}: {value}\")"
   ],
   "id": "724240128139ae33"
  },
  {
   "cell_type": "code",
   "execution_count": 2,
   "id": "c4190c0eac143cb1",
   "metadata": {
    "ExecuteTime": {
     "end_time": "2024-11-02T12:13:50.641450Z",
     "start_time": "2024-11-02T12:13:50.636954Z"
    },
    "collapsed": false
   },
   "outputs": [
    {
     "name": "stdout",
     "output_type": "stream",
     "text": [
      "10\n",
      "8\n",
      "6\n",
      "4\n",
      "2\n"
     ]
    }
   ],
   "source": [
    "for i in range(10, 1, -2): print(i)"
   ]
  },
  {
   "cell_type": "code",
   "execution_count": 3,
   "id": "968af1ff1f131cac",
   "metadata": {
    "ExecuteTime": {
     "end_time": "2024-11-02T12:17:16.169458Z",
     "start_time": "2024-11-02T12:17:16.164359Z"
    },
    "collapsed": false
   },
   "outputs": [
    {
     "name": "stdout",
     "output_type": "stream",
     "text": [
      "['cherry', 'banana', 'apple']\n"
     ]
    }
   ],
   "source": [
    "fruits = ['apple', 'banana', 'cherry']\n",
    "temp_fruits = []\n",
    "for i in range(len(fruits)-1, -1, -1):\n",
    "    temp_fruits.append(fruits[i])\n",
    "\n",
    "print(temp_fruits)"
   ]
  },
  {
   "cell_type": "code",
   "execution_count": 4,
   "id": "811210d49a880234",
   "metadata": {
    "ExecuteTime": {
     "end_time": "2024-11-02T12:37:12.895386Z",
     "start_time": "2024-11-02T12:37:12.874274Z"
    },
    "collapsed": false
   },
   "outputs": [
    {
     "name": "stdout",
     "output_type": "stream",
     "text": [
      "<class 'range'>\n"
     ]
    }
   ],
   "source": [
    "my_range: range = range(1,10)\n",
    "print(type(my_range))"
   ]
  },
  {
   "cell_type": "code",
   "execution_count": 5,
   "id": "30d34561ae248ba5",
   "metadata": {
    "ExecuteTime": {
     "end_time": "2024-11-02T20:25:42.016121Z",
     "start_time": "2024-11-02T20:25:42.009093Z"
    },
    "collapsed": false
   },
   "outputs": [
    {
     "name": "stdout",
     "output_type": "stream",
     "text": [
      "1 -1\n",
      "2 -2\n",
      "3 -3\n",
      "4 -4\n",
      "5 -5\n",
      "6 -6\n",
      "7 -7\n",
      "8 -8\n",
      "9 -9\n",
      "10 -10\n"
     ]
    }
   ],
   "source": [
    "i = 0 \n",
    "total = 0 \n",
    "while total > -10 :\n",
    "    i = i + 1 \n",
    "    total = total - 1 \n",
    "    print(i, total)"
   ]
  },
  {
   "cell_type": "code",
   "execution_count": 6,
   "id": "f3dc245a8443e51c",
   "metadata": {
    "ExecuteTime": {
     "end_time": "2024-11-03T16:05:45.601709Z",
     "start_time": "2024-11-03T16:05:45.598085Z"
    },
    "collapsed": false
   },
   "outputs": [
    {
     "name": "stdout",
     "output_type": "stream",
     "text": [
      "1\n",
      "2\n"
     ]
    }
   ],
   "source": [
    "for i in range(1,10):\n",
    "    if i == 3:\n",
    "        break\n",
    "    print(i)"
   ]
  },
  {
   "cell_type": "code",
   "execution_count": null,
   "id": "e30370b7b9e1e471",
   "metadata": {},
   "outputs": [],
   "source": []
  },
  {
   "cell_type": "code",
   "execution_count": 7,
   "id": "62e08b4328305fa6",
   "metadata": {
    "ExecuteTime": {
     "end_time": "2024-11-03T16:06:19.199441Z",
     "start_time": "2024-11-03T16:06:19.193691Z"
    },
    "collapsed": false
   },
   "outputs": [
    {
     "name": "stdout",
     "output_type": "stream",
     "text": [
      "1\n",
      "2\n",
      "4\n",
      "5\n",
      "6\n",
      "7\n",
      "8\n",
      "9\n"
     ]
    }
   ],
   "source": [
    "for i  in range(1,10):\n",
    "    if i == 3:\n",
    "        continue\n",
    "    print(i)"
   ]
  },
  {
   "cell_type": "code",
   "execution_count": 8,
   "id": "7bd0a4be0e078216",
   "metadata": {
    "ExecuteTime": {
     "end_time": "2024-11-03T16:08:04.970096Z",
     "start_time": "2024-11-03T16:08:04.956194Z"
    }
   },
   "outputs": [
    {
     "name": "stdout",
     "output_type": "stream",
     "text": [
      "1\n",
      "2\n",
      "4\n",
      "5\n",
      "6\n",
      "7\n",
      "8\n",
      "9\n",
      "Loop completed successfully\n"
     ]
    }
   ],
   "source": [
    "for i in range(1,10):\n",
    "    if i == 3:\n",
    "        continue\n",
    "    print(i)\n",
    "else:\n",
    "    print(\"Loop completed successfully\")"
   ]
  },
  {
   "cell_type": "code",
   "execution_count": 9,
   "id": "f003a38b35b5e633",
   "metadata": {
    "ExecuteTime": {
     "end_time": "2024-11-03T16:17:27.189324Z",
     "start_time": "2024-11-03T16:17:27.182065Z"
    }
   },
   "outputs": [
    {
     "name": "stdout",
     "output_type": "stream",
     "text": [
      "1\n",
      "2\n"
     ]
    }
   ],
   "source": [
    "for i in range(1,10):\n",
    "    if i == 3:\n",
    "        break\n",
    "    print(i)\n",
    "else:\n",
    "    print(\"Loop completed successfully\")"
   ]
  },
  {
   "cell_type": "code",
   "execution_count": null,
   "id": "a6959ce47a96cce7",
   "metadata": {},
   "outputs": [
    {
     "name": "stdout",
     "output_type": "stream",
     "text": [
      "0\n",
      "1\n",
      "2\n"
     ]
    }
   ],
   "source": [
    "counter = 0\n",
    "while counter < 10:\n",
    "    if counter == 3:\n",
    "        break\n",
    "    print(counter)\n",
    "    counter +=1\n",
    "else:\n",
    "    print(\"Loop completed successfully\")"
   ]
  },
  {
   "cell_type": "markdown",
   "id": "af3bdc1bb802b540",
   "metadata": {},
   "source": [
    "## Looping Over Different Data Structures\n",
    "\n",
    "Python provides several built-in data structures such as lists, tuples, dictionaries, and sets. You can use looping structures like `for` and `while` to iterate over these data structures.\n",
    "\n",
    "### Looping Over a List\n",
    "\n",
    "A list is an ordered collection which allows duplicate elements.\n",
    "\n",
    "#### Example:\n",
    "\n",
    "```python\n",
    "fruits = ['apple', 'banana', 'cherry']\n",
    "for fruit in fruits:\n",
    "    print(fruit)\n",
    "```\n",
    "\n",
    "### Looping Over a Tuple\n",
    "\n",
    "A tuple is similar to a list, but it is immutable.\n",
    "\n",
    "#### Example:\n",
    "\n",
    "```python\n",
    "coordinates = (10, 20, 30)\n",
    "for coordinate in coordinates:\n",
    "    print(coordinate)\n",
    "```\n",
    "\n",
    "### Looping Over a Dictionary\n",
    "\n",
    "A dictionary is an unordered collection of key-value pairs.\n",
    "\n",
    "#### Example:\n",
    "\n",
    "```python\n",
    "ages = {'Alice': 25, 'Bob': 30, 'Charlie': 35}\n",
    "for name, age in ages.items():\n",
    "    print(name, age)\n",
    "```\n",
    "\n",
    "### Looping Over a Set\n",
    "\n",
    "A set is an unordered collection of unique elements.\n",
    "\n",
    "#### Example:\n",
    "\n",
    "```python\n",
    "unique_numbers = {1, 2, 3, 4, 5}\n",
    "for number in unique_numbers:\n",
    "    print(number)\n",
    "```\n",
    "## 5. Else Clause with Loops\n",
    "\n",
    "The `else` clause in Python loops (`for` and `while`) is useful to handle the situation where the loop completes its iteration normally, without any interruption from a `break` statement. It is often used for purposes such as clean-up or final actions after the loop.\n",
    "\n",
    "### For Loop with Else\n",
    "\n",
    "The `else` clause in a `for` loop runs after the loop completes normally.\n",
    "\n",
    "#### Example:\n",
    "\n",
    "```python\n",
    "for i in range(5):\n",
    "    if i == 3:\n",
    "        break\n",
    "    print(i)\n",
    "else:\n",
    "    print(\"For loop completed without break\")\n",
    "```\n",
    "\n",
    "When the loop is terminated by a `break` statement (when `i` equals 3), the `else` clause will not be executed.\n",
    "\n",
    "### While Loop with Else\n",
    "\n",
    "The `else` clause in a `while` loop runs after the loop completes normally.\n",
    "\n",
    "#### Example:\n",
    "\n",
    "```python\n",
    "i = 0\n",
    "while i < 5:\n",
    "    print(i)\n",
    "    i += 1\n",
    "else:\n",
    "    print(\"While loop completed without break\")\n",
    "```\n",
    "\n",
    "In this example, the loop completes normally, and thus the `else` clause will be executed.#%% md\n",
    "## Continue in Loop\n",
    "\n",
    "The `continue` statement in Python allows you to skip the rest of the loop body for the current iteration only. It can be used in both `for` and `while` loops.\n",
    "\n",
    "### For Loop with Continue\n",
    "\n",
    "The `continue` statement makes the loop skip to the next iteration.\n",
    "\n",
    "#### Example:\n",
    "\n",
    "```python\n",
    "for i in range(5):\n",
    "    if i == 3:\n",
    "        continue\n",
    "    print(i)\n",
    "```\n",
    "\n",
    "In this example, when `i` equals 3, the `continue` statement will be executed, skipping the `print(i)` statement for that iteration. The loop will proceed with the next value of `i`.\n",
    "\n",
    "### While Loop with Continue\n",
    "\n",
    "Similarly, in a `while` loop, the `continue` statement skips the rest of the code in the loop for the current iteration and moves to the next iteration.\n",
    "\n",
    "#### Example:\n",
    "\n",
    "```python\n",
    "i = 0\n",
    "while i < 5:\n",
    "    i += 1\n",
    "    if i == 3:\n",
    "        continue\n",
    "    print(i)\n",
    "```\n",
    "\n",
    "In this example, when `i` equals 3, the `continue` statement will skip the `print(i)` statement for that iteration. The loop will then proceed with the next iteration."
   ]
  },
  {
   "cell_type": "code",
   "execution_count": null,
   "id": "7880ed61",
   "metadata": {},
   "outputs": [],
   "source": []
  }
 ],
 "metadata": {
  "kernelspec": {
   "display_name": ".venv",
   "language": "python",
   "name": "python3"
  },
  "language_info": {
   "codemirror_mode": {
    "name": "ipython",
    "version": 3
   },
   "file_extension": ".py",
   "mimetype": "text/x-python",
   "name": "python",
   "nbconvert_exporter": "python",
   "pygments_lexer": "ipython3",
   "version": "3.12.0"
  }
 },
 "nbformat": 4,
 "nbformat_minor": 5
}
