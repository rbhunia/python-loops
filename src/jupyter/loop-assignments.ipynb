{
 "cells": [
  {
   "cell_type": "code",
   "execution_count": 4,
   "id": "7f73b03a885ff428",
   "metadata": {
    "ExecuteTime": {
     "end_time": "2024-11-03T20:29:08.595954Z",
     "start_time": "2024-11-03T20:29:08.586389Z"
    }
   },
   "outputs": [
    {
     "name": "stdout",
     "output_type": "stream",
     "text": [
      "The sum of all natural numbers up to 10 is 55\n"
     ]
    }
   ],
   "source": [
    "# Function to calculate the sum of all natural numbers up to n\n",
    "# Arguments:\n",
    "# n (int): The upper limit of the range of natural numbers.\n",
    "# Returns:\n",
    "# int: The sum of all natural numbers up to n.\n",
    "def sum_of_natural_numbers(n):\n",
    "    return n * (n + 1) // 2\n",
    "\n",
    "\n",
    "# Example usage\n",
    "limit = 10  # You can change this limit to any desired number\n",
    "# Calculating the sum\n",
    "# Arguments:\n",
    "# limit (int): The upper limit of the range of natural numbers for the example usage.\n",
    "total_sum = sum_of_natural_numbers(limit)\n",
    "print(f\"The sum of all natural numbers up to {limit} is {total_sum}\")"
   ]
  },
  {
   "cell_type": "code",
   "execution_count": 5,
   "id": "c773d20a6be7f55f",
   "metadata": {
    "ExecuteTime": {
     "end_time": "2024-11-03T20:36:36.203341Z",
     "start_time": "2024-11-03T20:36:36.192989Z"
    }
   },
   "outputs": [
    {
     "name": "stdout",
     "output_type": "stream",
     "text": [
      "Multiplication table for 5:\n",
      "5 x 1 = 5\n",
      "5 x 2 = 10\n",
      "5 x 3 = 15\n",
      "5 x 4 = 20\n",
      "5 x 5 = 25\n",
      "5 x 6 = 30\n",
      "5 x 7 = 35\n",
      "5 x 8 = 40\n",
      "5 x 9 = 45\n",
      "5 x 10 = 50\n"
     ]
    }
   ],
   "source": [
    "# %%\n",
    "# Function to print the multiplication table for a given number\n",
    "def print_multiplication_table(number):\n",
    "    \"\"\"\n",
    "    Prints the multiplication table for the specified number up to 10.\n",
    "\n",
    "    Parameters:\n",
    "    number (int): The number for which to generate the multiplication table.\n",
    "\n",
    "    Returns:\n",
    "    None\n",
    "    \"\"\"\n",
    "    for i in range(1, 11):\n",
    "        print(f\"{number} x {i} = {number * i}\")\n",
    "\n",
    "\n",
    "# Example usage\n",
    "num = 5  # You can change this number to any desired value\n",
    "print(f\"Multiplication table for {num}:\")\n",
    "print_multiplication_table(num)\n"
   ]
  },
  {
   "cell_type": "code",
   "execution_count": null,
   "id": "d907542b1f6da8f7",
   "metadata": {},
   "outputs": [],
   "source": [
    "# %%\n",
    "# Function to calculate the factorial of a given number\n",
    "def calculate_factorial(number):\n",
    "    \"\"\"\n",
    "    Calculates the factorial of the specified number.\n",
    "\n",
    "    Parameters:\n",
    "    number (int): The number for which to calculate the factorial.\n",
    "\n",
    "    Returns:\n",
    "    int: The factorial of the number.\n",
    "    \"\"\"\n",
    "    factorial = 1\n",
    "    for i in range(1, number + 1):\n",
    "        factorial *= i\n",
    "    return factorial\n",
    "\n",
    "\n",
    "# Example usage\n",
    "num = 5  # You can change this number to any desired value\n",
    "print(f\"The factorial of {num} is {calculate_factorial(num)}\")\n"
   ]
  },
  {
   "cell_type": "code",
   "execution_count": null,
   "id": "10fa076a9e825b4e",
   "metadata": {},
   "outputs": [],
   "source": [
    "# %%\n",
    "# Function to perform countdown and print \"Liftoff!\" when done\n",
    "def countdown(number):\n",
    "    \"\"\"\n",
    "    Counts down from the specified number to 1 and prints \"Liftoff!\" when done.\n",
    "\n",
    "    Parameters:\n",
    "    number (int): The number to start the countdown from.\n",
    "\n",
    "    Returns:\n",
    "    None\n",
    "    \"\"\"\n",
    "    for i in range(number, 0, -1):\n",
    "        print(i)\n",
    "    print(\"Liftoff!\")\n",
    "\n",
    "\n",
    "# Example usage\n",
    "start_num = 10  # You can change this number to any desired starting value\n",
    "countdown(start_num)"
   ]
  },
  {
   "metadata": {
    "ExecuteTime": {
     "end_time": "2024-11-03T21:03:40.789319Z",
     "start_time": "2024-11-03T21:03:40.781393Z"
    }
   },
   "cell_type": "code",
   "source": [
    "# %%\n",
    "# Function to calculate the sum of even numbers from 1 to specific number\n",
    "def sum_of_even_numbers(n):\n",
    "    \"\"\"\n",
    "    Calculates the sum of all even numbers from 1 to n.\n",
    "\n",
    "    Returns:\n",
    "    int: The sum of all even numbers from 1 to n.\n",
    "    \"\"\"\n",
    "    total = 0\n",
    "    for number in range(1, n + 1):\n",
    "        if number % 2 == 0:\n",
    "            total += number\n",
    "    return total\n",
    "\n",
    "\n",
    "# Example usage\n",
    "even_sum = sum_of_even_numbers(10)\n",
    "print(f\"The sum of all even numbers from 1 to 10 is {even_sum}\")"
   ],
   "id": "b98b156a338e74e2",
   "outputs": [
    {
     "name": "stdout",
     "output_type": "stream",
     "text": [
      "The sum of all even numbers from 1 to 10 is 30\n"
     ]
    }
   ],
   "execution_count": 10
  },
  {
   "metadata": {
    "ExecuteTime": {
     "end_time": "2024-11-03T21:03:44.404900Z",
     "start_time": "2024-11-03T21:03:44.400313Z"
    }
   },
   "cell_type": "code",
   "source": [
    "# %%\n",
    "# Function to calculate the sum of even numbers from 1 to specific number using list comprehension\n",
    "def sum_of_even_numbers(n):\n",
    "    \"\"\"\n",
    "    Calculates and returns the sum of all even numbers from 1 to n using list comprehension.\n",
    "\n",
    "    Returns:\n",
    "    int: The sum of all even numbers from 1 to n.\n",
    "    \"\"\"\n",
    "    return sum([number for number in range(1, n + 1) if number % 2 == 0])\n",
    "\n",
    "\n",
    "# Example usage\n",
    "even_sum = sum_of_even_numbers(10)\n",
    "print(f\"The sum of all even numbers from 1 to 10 is {even_sum}\")"
   ],
   "id": "13dd90ccb5ca1b13",
   "outputs": [
    {
     "name": "stdout",
     "output_type": "stream",
     "text": [
      "The sum of all even numbers from 1 to 10 is 30\n"
     ]
    }
   ],
   "execution_count": 11
  },
  {
   "metadata": {
    "ExecuteTime": {
     "end_time": "2024-11-03T21:06:15.478358Z",
     "start_time": "2024-11-03T21:06:15.471859Z"
    }
   },
   "cell_type": "code",
   "source": [
    "# %%\n",
    "# Function to calculate the sum of odd numbers from 1 to n\n",
    "def sum_of_odd_numbers(n):\n",
    "    \"\"\"\n",
    "    Calculates the sum of all odd numbers from 1 to n.\n",
    "\n",
    "    Returns:\n",
    "    int: The sum of all odd numbers from 1 to n.\n",
    "    \"\"\"\n",
    "    total = 0\n",
    "    for number in range(1, n + 1):\n",
    "        if number % 2 != 0:\n",
    "            total += number\n",
    "    return total\n",
    "\n",
    "\n",
    "# Example usage\n",
    "odd_sum = sum_of_odd_numbers(10)\n",
    "print(f\"The sum of all odd numbers from 1 to 10 is {odd_sum}\")\n"
   ],
   "id": "7162f37e46853e33",
   "outputs": [
    {
     "name": "stdout",
     "output_type": "stream",
     "text": [
      "The sum of all odd numbers from 1 to 10 is 25\n"
     ]
    }
   ],
   "execution_count": 13
  },
  {
   "metadata": {
    "ExecuteTime": {
     "end_time": "2024-11-03T21:07:04.719296Z",
     "start_time": "2024-11-03T21:07:04.711745Z"
    }
   },
   "cell_type": "code",
   "source": [
    "# %%\n",
    "# Function to calculate the sum of odd numbers from 1 to n using list comprehension\n",
    "def sum_of_odd_numbers(n):\n",
    "    \"\"\"\n",
    "    Calculates and returns the sum of all odd numbers from 1 to n using list comprehension.\n",
    "\n",
    "    Returns:\n",
    "    int: The sum of all odd numbers from 1 to n.\n",
    "    \"\"\"\n",
    "    return sum([number for number in range(1, n+1) if number % 2 != 0])\n",
    "\n",
    "\n",
    "# Example usage\n",
    "odd_sum = sum_of_odd_numbers(10)\n",
    "print(f\"The sum of all odd numbers from 1 to 10 is {odd_sum}\")\n"
   ],
   "id": "8a2b3d9cd1e50b06",
   "outputs": [
    {
     "name": "stdout",
     "output_type": "stream",
     "text": [
      "The sum of all odd numbers from 1 to 10 is 25\n"
     ]
    }
   ],
   "execution_count": 14
  },
  {
   "metadata": {
    "ExecuteTime": {
     "end_time": "2024-11-03T21:08:00.651957Z",
     "start_time": "2024-11-03T21:08:00.646597Z"
    }
   },
   "cell_type": "code",
   "source": [
    "# %%\n",
    "# Function to print numbers from 10 down to 1\n",
    "def reverse_number_printing():\n",
    "    \"\"\"\n",
    "    Prints numbers from 10 down to 1.\n",
    "    \"\"\"\n",
    "    for number in range(10, 0, -1):\n",
    "        print(number)\n",
    "\n",
    "\n",
    "# Example usage\n",
    "reverse_number_printing()\n"
   ],
   "id": "d3dcb963f2f8ea7c",
   "outputs": [
    {
     "name": "stdout",
     "output_type": "stream",
     "text": [
      "10\n",
      "9\n",
      "8\n",
      "7\n",
      "6\n",
      "5\n",
      "4\n",
      "3\n",
      "2\n",
      "1\n"
     ]
    }
   ],
   "execution_count": 15
  },
  {
   "metadata": {
    "ExecuteTime": {
     "end_time": "2024-11-03T21:13:54.981916Z",
     "start_time": "2024-11-03T21:13:54.975431Z"
    }
   },
   "cell_type": "code",
   "source": [
    "# %%\n",
    "# Function to check whether a number is prime\n",
    "def is_prime(number):\n",
    "    \"\"\"\n",
    "    Checks if a given number is prime.\n",
    "\n",
    "    Args:\n",
    "    number (int): The number to check.\n",
    "\n",
    "    Returns:\n",
    "    bool: True if the number is prime, False otherwise.\n",
    "    \"\"\"\n",
    "    if number <= 1:\n",
    "        return False\n",
    "    for i in range(2, int(number ** 0.5) + 1):\n",
    "        if number % i == 0:\n",
    "            return False\n",
    "    return True\n",
    "\n",
    "\n",
    "# Example usage\n",
    "number_to_check = 29\n",
    "result = is_prime(number_to_check)\n",
    "print(f\"The number {number_to_check} is {'prime' if result else 'not prime'}.\")\n"
   ],
   "id": "91a82cb349b58ff7",
   "outputs": [
    {
     "name": "stdout",
     "output_type": "stream",
     "text": [
      "The number -29 is not prime.\n"
     ]
    }
   ],
   "execution_count": 19
  },
  {
   "metadata": {
    "ExecuteTime": {
     "end_time": "2024-11-03T21:10:37.687673Z",
     "start_time": "2024-11-03T21:10:37.680807Z"
    }
   },
   "cell_type": "code",
   "source": [
    "# %%\n",
    "# Function to check whether a number is prime using comprehension\n",
    "def is_prime(number):\n",
    "    \"\"\"\n",
    "    Checks if a given number is prime using comprehension.\n",
    "\n",
    "    Args:\n",
    "    number (int): The number to check.\n",
    "\n",
    "    Returns:\n",
    "    bool: True if the number is prime, False otherwise.\n",
    "    \"\"\"\n",
    "    if number <= 1:\n",
    "        return False\n",
    "    return all(number % i != 0 for i in range(2, int(number ** 0.5) + 1))\n",
    "\n",
    "\n",
    "# Example usage\n",
    "number_to_check = 23\n",
    "result = is_prime(number_to_check)\n",
    "print(f\"The number {number_to_check} is {'prime' if result else 'not prime'}.\")\n"
   ],
   "id": "f6162a53e8788ac8",
   "outputs": [
    {
     "name": "stdout",
     "output_type": "stream",
     "text": [
      "The number 23 is prime.\n"
     ]
    }
   ],
   "execution_count": 18
  }
 ],
 "metadata": {
  "kernelspec": {
   "display_name": "Python 3",
   "language": "python",
   "name": "python3"
  },
  "language_info": {
   "codemirror_mode": {
    "name": "ipython",
    "version": 2
   },
   "file_extension": ".py",
   "mimetype": "text/x-python",
   "name": "python",
   "nbconvert_exporter": "python",
   "pygments_lexer": "ipython2",
   "version": "2.7.6"
  }
 },
 "nbformat": 4,
 "nbformat_minor": 5
}
