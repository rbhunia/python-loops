{
 "cells": [
  {
   "cell_type": "code",
   "execution_count": 2,
   "id": "7f73b03a885ff428",
   "metadata": {
    "ExecuteTime": {
     "end_time": "2024-11-03T20:29:08.595954Z",
     "start_time": "2024-11-03T20:29:08.586389Z"
    }
   },
   "outputs": [
    {
     "name": "stdout",
     "output_type": "stream",
     "text": [
      "The sum of all natural numbers up to 10 is 55\n"
     ]
    }
   ],
   "source": [
    "# Function to calculate the sum of all natural numbers up to n\n",
    "# Arguments:\n",
    "# n (int): The upper limit of the range of natural numbers.\n",
    "# Returns:\n",
    "# int: The sum of all natural numbers up to n.\n",
    "def sum_of_natural_numbers(n):\n",
    "    return n * (n + 1) // 2\n",
    "\n",
    "\n",
    "# Example usage\n",
    "limit = 10  # You can change this limit to any desired number\n",
    "# Calculating the sum\n",
    "# Arguments:\n",
    "# limit (int): The upper limit of the range of natural numbers for the example usage.\n",
    "total_sum = sum_of_natural_numbers(limit)\n",
    "print(f\"The sum of all natural numbers up to {limit} is {total_sum}\")"
   ]
  },
  {
   "cell_type": "code",
   "execution_count": 3,
   "id": "c773d20a6be7f55f",
   "metadata": {
    "ExecuteTime": {
     "end_time": "2024-11-03T20:36:36.203341Z",
     "start_time": "2024-11-03T20:36:36.192989Z"
    }
   },
   "outputs": [
    {
     "name": "stdout",
     "output_type": "stream",
     "text": [
      "Multiplication table for 5:\n",
      "5 x 1 = 5\n",
      "5 x 2 = 10\n",
      "5 x 3 = 15\n",
      "5 x 4 = 20\n",
      "5 x 5 = 25\n",
      "5 x 6 = 30\n",
      "5 x 7 = 35\n",
      "5 x 8 = 40\n",
      "5 x 9 = 45\n",
      "5 x 10 = 50\n"
     ]
    }
   ],
   "source": [
    "# %%\n",
    "# Function to print the multiplication table for a given number\n",
    "def print_multiplication_table(number):\n",
    "    \"\"\"\n",
    "    Prints the multiplication table for the specified number up to 10.\n",
    "\n",
    "    Parameters:\n",
    "    number (int): The number for which to generate the multiplication table.\n",
    "\n",
    "    Returns:\n",
    "    None\n",
    "    \"\"\"\n",
    "    for i in range(1, 11):\n",
    "        print(f\"{number} x {i} = {number * i}\")\n",
    "\n",
    "\n",
    "# Example usage\n",
    "num = 5  # You can change this number to any desired value\n",
    "print(f\"Multiplication table for {num}:\")\n",
    "print_multiplication_table(num)\n"
   ]
  },
  {
   "cell_type": "code",
   "execution_count": 4,
   "id": "d907542b1f6da8f7",
   "metadata": {},
   "outputs": [
    {
     "name": "stdout",
     "output_type": "stream",
     "text": [
      "The factorial of 5 is 120\n"
     ]
    }
   ],
   "source": [
    "# %%\n",
    "# Function to calculate the factorial of a given number\n",
    "def calculate_factorial(number):\n",
    "    \"\"\"\n",
    "    Calculates the factorial of the specified number.\n",
    "\n",
    "    Parameters:\n",
    "    number (int): The number for which to calculate the factorial.\n",
    "\n",
    "    Returns:\n",
    "    int: The factorial of the number.\n",
    "    \"\"\"\n",
    "    factorial = 1\n",
    "    for i in range(1, number + 1):\n",
    "        factorial *= i\n",
    "    return factorial\n",
    "\n",
    "\n",
    "# Example usage\n",
    "num = 5  # You can change this number to any desired value\n",
    "print(f\"The factorial of {num} is {calculate_factorial(num)}\")\n"
   ]
  },
  {
   "cell_type": "code",
   "execution_count": 5,
   "id": "10fa076a9e825b4e",
   "metadata": {},
   "outputs": [
    {
     "name": "stdout",
     "output_type": "stream",
     "text": [
      "10\n",
      "9\n",
      "8\n",
      "7\n",
      "6\n",
      "5\n",
      "4\n",
      "3\n",
      "2\n",
      "1\n",
      "Liftoff!\n"
     ]
    }
   ],
   "source": [
    "# %%\n",
    "# Function to perform countdown and print \"Liftoff!\" when done\n",
    "def countdown(number):\n",
    "    \"\"\"\n",
    "    Counts down from the specified number to 1 and prints \"Liftoff!\" when done.\n",
    "\n",
    "    Parameters:\n",
    "    number (int): The number to start the countdown from.\n",
    "\n",
    "    Returns:\n",
    "    None\n",
    "    \"\"\"\n",
    "    for i in range(number, 0, -1):\n",
    "        print(i)\n",
    "    print(\"Liftoff!\")\n",
    "\n",
    "\n",
    "# Example usage\n",
    "start_num = 10  # You can change this number to any desired starting value\n",
    "countdown(start_num)"
   ]
  },
  {
   "cell_type": "code",
   "execution_count": 6,
   "id": "b98b156a338e74e2",
   "metadata": {
    "ExecuteTime": {
     "end_time": "2024-11-03T21:03:40.789319Z",
     "start_time": "2024-11-03T21:03:40.781393Z"
    }
   },
   "outputs": [
    {
     "name": "stdout",
     "output_type": "stream",
     "text": [
      "The sum of all even numbers from 1 to 10 is 30\n"
     ]
    }
   ],
   "source": [
    "# %%\n",
    "# Function to calculate the sum of even numbers from 1 to specific number\n",
    "def sum_of_even_numbers(n):\n",
    "    \"\"\"\n",
    "    Calculates the sum of all even numbers from 1 to n.\n",
    "\n",
    "    Returns:\n",
    "    int: The sum of all even numbers from 1 to n.\n",
    "    \"\"\"\n",
    "    total = 0\n",
    "    for number in range(1, n + 1):\n",
    "        if number % 2 == 0:\n",
    "            total += number\n",
    "    return total\n",
    "\n",
    "\n",
    "# Example usage\n",
    "even_sum = sum_of_even_numbers(10)\n",
    "print(f\"The sum of all even numbers from 1 to 10 is {even_sum}\")"
   ]
  },
  {
   "cell_type": "code",
   "execution_count": 7,
   "id": "13dd90ccb5ca1b13",
   "metadata": {
    "ExecuteTime": {
     "end_time": "2024-11-03T21:03:44.404900Z",
     "start_time": "2024-11-03T21:03:44.400313Z"
    }
   },
   "outputs": [
    {
     "name": "stdout",
     "output_type": "stream",
     "text": [
      "The sum of all even numbers from 1 to 10 is 30\n"
     ]
    }
   ],
   "source": [
    "# %%\n",
    "# Function to calculate the sum of even numbers from 1 to specific number using list comprehension\n",
    "def sum_of_even_numbers(n):\n",
    "    \"\"\"\n",
    "    Calculates and returns the sum of all even numbers from 1 to n using list comprehension.\n",
    "\n",
    "    Returns:\n",
    "    int: The sum of all even numbers from 1 to n.\n",
    "    \"\"\"\n",
    "    return sum([number for number in range(1, n + 1) if number % 2 == 0])\n",
    "\n",
    "\n",
    "# Example usage\n",
    "even_sum = sum_of_even_numbers(10)\n",
    "print(f\"The sum of all even numbers from 1 to 10 is {even_sum}\")"
   ]
  },
  {
   "cell_type": "code",
   "execution_count": 8,
   "id": "7162f37e46853e33",
   "metadata": {
    "ExecuteTime": {
     "end_time": "2024-11-03T21:06:15.478358Z",
     "start_time": "2024-11-03T21:06:15.471859Z"
    }
   },
   "outputs": [
    {
     "name": "stdout",
     "output_type": "stream",
     "text": [
      "The sum of all odd numbers from 1 to 10 is 25\n"
     ]
    }
   ],
   "source": [
    "# %%\n",
    "# Function to calculate the sum of odd numbers from 1 to n\n",
    "def sum_of_odd_numbers(n):\n",
    "    \"\"\"\n",
    "    Calculates the sum of all odd numbers from 1 to n.\n",
    "\n",
    "    Returns:\n",
    "    int: The sum of all odd numbers from 1 to n.\n",
    "    \"\"\"\n",
    "    total = 0\n",
    "    for number in range(1, n + 1):\n",
    "        if number % 2 != 0:\n",
    "            total += number\n",
    "    return total\n",
    "\n",
    "\n",
    "# Example usage\n",
    "odd_sum = sum_of_odd_numbers(10)\n",
    "print(f\"The sum of all odd numbers from 1 to 10 is {odd_sum}\")\n"
   ]
  },
  {
   "cell_type": "code",
   "execution_count": 9,
   "id": "8a2b3d9cd1e50b06",
   "metadata": {
    "ExecuteTime": {
     "end_time": "2024-11-03T21:07:04.719296Z",
     "start_time": "2024-11-03T21:07:04.711745Z"
    }
   },
   "outputs": [
    {
     "name": "stdout",
     "output_type": "stream",
     "text": [
      "The sum of all odd numbers from 1 to 10 is 25\n"
     ]
    }
   ],
   "source": [
    "# %%\n",
    "# Function to calculate the sum of odd numbers from 1 to n using list comprehension\n",
    "def sum_of_odd_numbers(n):\n",
    "    \"\"\"\n",
    "    Calculates and returns the sum of all odd numbers from 1 to n using list comprehension.\n",
    "\n",
    "    Returns:\n",
    "    int: The sum of all odd numbers from 1 to n.\n",
    "    \"\"\"\n",
    "    return sum([number for number in range(1, n+1) if number % 2 != 0])\n",
    "\n",
    "\n",
    "# Example usage\n",
    "odd_sum = sum_of_odd_numbers(10)\n",
    "print(f\"The sum of all odd numbers from 1 to 10 is {odd_sum}\")\n"
   ]
  },
  {
   "cell_type": "code",
   "execution_count": 10,
   "id": "d3dcb963f2f8ea7c",
   "metadata": {
    "ExecuteTime": {
     "end_time": "2024-11-03T21:08:00.651957Z",
     "start_time": "2024-11-03T21:08:00.646597Z"
    }
   },
   "outputs": [
    {
     "name": "stdout",
     "output_type": "stream",
     "text": [
      "10\n",
      "9\n",
      "8\n",
      "7\n",
      "6\n",
      "5\n",
      "4\n",
      "3\n",
      "2\n",
      "1\n"
     ]
    }
   ],
   "source": [
    "# %%\n",
    "# Function to print numbers from 10 down to 1\n",
    "def reverse_number_printing():\n",
    "    \"\"\"\n",
    "    Prints numbers from 10 down to 1.\n",
    "    \"\"\"\n",
    "    for number in range(10, 0, -1):\n",
    "        print(number)\n",
    "\n",
    "\n",
    "# Example usage\n",
    "reverse_number_printing()\n"
   ]
  },
  {
   "cell_type": "code",
   "execution_count": 11,
   "id": "91a82cb349b58ff7",
   "metadata": {
    "ExecuteTime": {
     "end_time": "2024-11-03T21:13:54.981916Z",
     "start_time": "2024-11-03T21:13:54.975431Z"
    }
   },
   "outputs": [
    {
     "name": "stdout",
     "output_type": "stream",
     "text": [
      "The number 29 is prime.\n"
     ]
    }
   ],
   "source": [
    "# %%\n",
    "# Function to check whether a number is prime\n",
    "def is_prime(number):\n",
    "    \"\"\"\n",
    "    Checks if a given number is prime.\n",
    "\n",
    "    Args:\n",
    "    number (int): The number to check.\n",
    "\n",
    "    Returns:\n",
    "    bool: True if the number is prime, False otherwise.\n",
    "    \"\"\"\n",
    "    if number <= 1:\n",
    "        return False\n",
    "    for i in range(2, int(number ** 0.5) + 1):\n",
    "        if number % i == 0:\n",
    "            return False\n",
    "    return True\n",
    "\n",
    "\n",
    "# Example usage\n",
    "number_to_check = 29\n",
    "result = is_prime(number_to_check)\n",
    "print(f\"The number {number_to_check} is {'prime' if result else 'not prime'}.\")\n"
   ]
  },
  {
   "cell_type": "code",
   "execution_count": 12,
   "id": "f6162a53e8788ac8",
   "metadata": {
    "ExecuteTime": {
     "end_time": "2024-11-03T21:10:37.687673Z",
     "start_time": "2024-11-03T21:10:37.680807Z"
    }
   },
   "outputs": [
    {
     "name": "stdout",
     "output_type": "stream",
     "text": [
      "The number 23 is prime.\n"
     ]
    }
   ],
   "source": [
    "# %%\n",
    "# Function to check whether a number is prime using comprehension\n",
    "def is_prime(number):\n",
    "    \"\"\"\n",
    "    Checks if a given number is prime using comprehension.\n",
    "\n",
    "    Args:\n",
    "    number (int): The number to check.\n",
    "\n",
    "    Returns:\n",
    "    bool: True if the number is prime, False otherwise.\n",
    "    \"\"\"\n",
    "    if number <= 1:\n",
    "        return False\n",
    "    return all(number % i != 0 for i in range(2, int(number ** 0.5) + 1))\n",
    "\n",
    "\n",
    "# Example usage\n",
    "number_to_check = 23\n",
    "result = is_prime(number_to_check)\n",
    "print(f\"The number {number_to_check} is {'prime' if result else 'not prime'}.\")\n"
   ]
  },
  {
   "cell_type": "code",
   "execution_count": 13,
   "id": "b22dd45d254c28d0",
   "metadata": {
    "ExecuteTime": {
     "end_time": "2024-11-03T22:14:44.504279Z",
     "start_time": "2024-11-03T22:14:44.499100Z"
    }
   },
   "outputs": [
    {
     "name": "stdout",
     "output_type": "stream",
     "text": [
      "The sum of the digits is: 15\n"
     ]
    }
   ],
   "source": [
    "def sum_of_digits(number):\n",
    "    \"\"\"\n",
    "    Calculate the sum of the digits of a given number.\n",
    "\n",
    "    Parameters:\n",
    "    number (int): The number whose digits are to be summed.\n",
    "\n",
    "    Returns:\n",
    "    int: The sum of the digits of the number.\n",
    "    \"\"\"\n",
    "    total_sum = 0  # Initialize the sum variable\n",
    "\n",
    "    while number > 0:\n",
    "        # Get the last digit of the number\n",
    "        digit = number % 10\n",
    "        # Add the digit to the sum\n",
    "        total_sum += digit\n",
    "        # Remove the last digit from the number\n",
    "        number = number // 10\n",
    "\n",
    "    return total_sum\n",
    "\n",
    "\n",
    "# Example usage\n",
    "number = 12345\n",
    "print(\"The sum of the digits is:\", sum_of_digits(number))"
   ]
  },
  {
   "cell_type": "code",
   "execution_count": 14,
   "id": "e67c84d48baa2212",
   "metadata": {
    "ExecuteTime": {
     "end_time": "2024-11-03T22:14:34.906599Z",
     "start_time": "2024-11-03T22:14:34.893170Z"
    }
   },
   "outputs": [
    {
     "name": "stdout",
     "output_type": "stream",
     "text": [
      "The sum of the digits is: 15\n"
     ]
    }
   ],
   "source": [
    "def sum_of_digits(number):\n",
    "    \"\"\"\n",
    "    Calculate the sum of the digits of a given number.\n",
    "\n",
    "    Parameters:\n",
    "    number (int): The number whose digits are to be summed.\n",
    "\n",
    "    Returns:\n",
    "    int: The sum of the digits of the number.\n",
    "    \"\"\"\n",
    "    # Use list comprehension to convert each character to an integer and sum them up\n",
    "    return sum(int(digit) for digit in str(number))\n",
    "\n",
    "\n",
    "# Example usage\n",
    "number = 12345\n",
    "print(\"The sum of the digits is:\", sum_of_digits(number))"
   ]
  },
  {
   "cell_type": "code",
   "execution_count": 15,
   "id": "ef539fede7ef2b4",
   "metadata": {
    "ExecuteTime": {
     "end_time": "2024-11-03T22:17:47.627705Z",
     "start_time": "2024-11-03T22:17:47.621138Z"
    }
   },
   "outputs": [
    {
     "name": "stdout",
     "output_type": "stream",
     "text": [
      "*\n",
      "**\n",
      "***\n",
      "****\n"
     ]
    }
   ],
   "source": [
    "def print_triangle_pattern(n):\n",
    "    \"\"\"\n",
    "    Prints a triangle pattern with 'n' rows.\n",
    "\n",
    "    Parameters:\n",
    "    n (int): The number of rows in the triangle.\n",
    "    \"\"\"\n",
    "    for i in range(1, n + 1):\n",
    "        # Print '*' i times\n",
    "        print('*' * i)\n",
    "\n",
    "\n",
    "# Example usage\n",
    "rows = 4\n",
    "print_triangle_pattern(rows)"
   ]
  },
  {
   "cell_type": "code",
   "execution_count": 16,
   "id": "d5bd30b69dd1bb07",
   "metadata": {
    "ExecuteTime": {
     "end_time": "2024-11-03T22:18:40.070288Z",
     "start_time": "2024-11-03T22:18:40.063088Z"
    }
   },
   "outputs": [
    {
     "name": "stdout",
     "output_type": "stream",
     "text": [
      "The sum of the list elements is: 15\n"
     ]
    }
   ],
   "source": [
    "def sum_of_list_elements(lst):\n",
    "    \"\"\"\n",
    "    Calculate the sum of all elements in a list.\n",
    "\n",
    "    Parameters:\n",
    "    lst (list): A list of numbers.\n",
    "\n",
    "    Returns:\n",
    "    int or float: The sum of all elements in the list.\n",
    "    \"\"\"\n",
    "    total_sum = 0  # Initialize the sum variable\n",
    "\n",
    "    for element in lst:\n",
    "        # Add each element to the total sum\n",
    "        total_sum += element\n",
    "\n",
    "    return total_sum\n",
    "\n",
    "\n",
    "# Example usage\n",
    "numbers = [1, 2, 3, 4, 5]\n",
    "print(\"The sum of the list elements is:\", sum_of_list_elements(numbers))\n"
   ]
  },
  {
   "cell_type": "code",
   "execution_count": 17,
   "id": "b476de98b1b32cba",
   "metadata": {},
   "outputs": [
    {
     "name": "stdout",
     "output_type": "stream",
     "text": [
      "The sum of the list elements is: 15\n"
     ]
    }
   ],
   "source": [
    "def sum_of_list_elements(lst):\n",
    "    \"\"\"\n",
    "    Calculate the sum of all elements in a list using list comprehension.\n",
    "\n",
    "    Parameters:\n",
    "    lst (list): A list of numbers.\n",
    "\n",
    "    Returns:\n",
    "    int or float: The sum of all elements in the list.\n",
    "    \"\"\"\n",
    "    # Use sum() with list comprehension to sum up the elements in the list\n",
    "    return sum([element for element in lst])\n",
    "\n",
    "\n",
    "# Example usage\n",
    "numbers = [1, 2, 3, 4, 5]\n",
    "print(\"The sum of the list elements is:\", sum_of_list_elements(numbers))"
   ]
  },
  {
   "cell_type": "code",
   "execution_count": 18,
   "id": "c5fd598d",
   "metadata": {},
   "outputs": [
    {
     "name": "stdout",
     "output_type": "stream",
     "text": [
      "olleh\n"
     ]
    }
   ],
   "source": [
    "## Using for loop\n",
    "def reverse_string(s):\n",
    "    \"\"\"\n",
    "    Reverse the input string using a for loop.\n",
    "\n",
    "    Parameters:\n",
    "    s (str): The string to be reversed.\n",
    "\n",
    "    Returns:\n",
    "    str: The reversed string.\n",
    "    \"\"\"\n",
    "    reversed_str = \"\"\n",
    "    for char in s:\n",
    "        reversed_str = char + reversed_str  # Prepend each character to the reversed string\n",
    "    return reversed_str\n",
    "\n",
    "\n",
    "# Test the function\n",
    "original_string = \"hello\"\n",
    "reversed_string = reverse_string(original_string)\n",
    "print(reversed_string)  # Output: \"olleh\""
   ]
  },
  {
   "cell_type": "code",
   "execution_count": 19,
   "id": "afc066b4",
   "metadata": {},
   "outputs": [
    {
     "name": "stdout",
     "output_type": "stream",
     "text": [
      "olleh\n"
     ]
    }
   ],
   "source": [
    "## Using while loop\n",
    "def reverse_string_while(s):\n",
    "    \"\"\"\n",
    "    Reverse the input string using a while loop.\n",
    "\n",
    "    Parameters:\n",
    "    s (str): The string to be reversed.\n",
    "\n",
    "    Returns:\n",
    "    str: The reversed string.\n",
    "    \"\"\"\n",
    "    reversed_str = \"\"\n",
    "    index = len(s) - 1  # Start from the last character\n",
    "    while index >= 0:\n",
    "        reversed_str += s[index]  # Append character at the current index\n",
    "        index -= 1  # Move to the previous character\n",
    "    return reversed_str\n",
    "\n",
    "\n",
    "# Test the function\n",
    "original_string = \"hello\"\n",
    "reversed_string = reverse_string_while(original_string)\n",
    "print(reversed_string)  # Output: \"olleh\""
   ]
  },
  {
   "cell_type": "code",
   "execution_count": 20,
   "id": "95ddd7ad",
   "metadata": {},
   "outputs": [
    {
     "name": "stdout",
     "output_type": "stream",
     "text": [
      "olleh\n"
     ]
    }
   ],
   "source": [
    "## ### Using List Comprehension and Join\n",
    "def reverse_string_list_comprehension(s):\n",
    "    \"\"\"\n",
    "    Reverse the input string using list comprehension and join.\n",
    "\n",
    "    Parameters:\n",
    "    s (str): The string to be reversed.\n",
    "\n",
    "    Returns:\n",
    "    str: The reversed string.\n",
    "    \"\"\"\n",
    "    reversed_str = ''.join([s[i] for i in range(len(s) - 1, -1, -1)])\n",
    "    return reversed_str\n",
    "\n",
    "\n",
    "# Test the function\n",
    "original_string = \"hello\"\n",
    "reversed_string = reverse_string_list_comprehension(original_string)\n",
    "print(reversed_string)  # Output: \"olleh\""
   ]
  },
  {
   "cell_type": "code",
   "execution_count": 21,
   "id": "7a28c24f",
   "metadata": {},
   "outputs": [
    {
     "name": "stdout",
     "output_type": "stream",
     "text": [
      "olleh\n"
     ]
    }
   ],
   "source": [
    "## Pythonic Way to reverse a string\n",
    "def reverse_string_pythonic(s):\n",
    "    \"\"\"\n",
    "    Reverse the input string using Python's slicing feature.\n",
    "\n",
    "    Parameters:\n",
    "    s (str): The string to be reversed.\n",
    "\n",
    "    Returns:\n",
    "    str: The reversed string.\n",
    "    \"\"\"\n",
    "    return s[::-1]\n",
    "\n",
    "\n",
    "# Test the function\n",
    "original_string = \"hello\"\n",
    "reversed_string = reverse_string_pythonic(original_string)\n",
    "print(reversed_string)  # Output: \"olleh\""
   ]
  },
  {
   "cell_type": "markdown",
   "id": "15cf1d86",
   "metadata": {},
   "source": [
    "Find the sum of all elements in a list using a loop."
   ]
  },
  {
   "cell_type": "code",
   "execution_count": 22,
   "id": "e191cfc0",
   "metadata": {},
   "outputs": [
    {
     "name": "stdout",
     "output_type": "stream",
     "text": [
      "15\n"
     ]
    }
   ],
   "source": [
    "def sum_of_list_elements(lst):\n",
    "    \"\"\"\n",
    "    Calculate the sum of all elements in the input list using a for loop.\n",
    "\n",
    "    Parameters:\n",
    "    lst (list): The list containing numerical elements to be summed.\n",
    "\n",
    "    Returns:\n",
    "    int or float: The sum of all elements in the list.\n",
    "    \"\"\"\n",
    "    total = 0  # Initialize the total sum to zero\n",
    "    for element in lst:\n",
    "        total += element  # Add each element to the total\n",
    "    return total\n",
    "\n",
    "\n",
    "# Test the function\n",
    "numbers = [1, 2, 3, 4, 5]\n",
    "result = sum_of_list_elements(numbers)\n",
    "print(result)  # Output: 15"
   ]
  },
  {
   "cell_type": "code",
   "execution_count": null,
   "id": "4f29528b",
   "metadata": {},
   "outputs": [],
   "source": [
    "def sum_of_list_elements_while(lst):\n",
    "    \"\"\"\n",
    "    Calculate the sum of all elements in the input list using a while loop.\n",
    "\n",
    "    Parameters:\n",
    "    lst (list): The list containing numerical elements to be summed.\n",
    "\n",
    "    Returns:\n",
    "    int or float: The sum of all elements in the list.\n",
    "    \"\"\"\n",
    "    total = 0  # Initialize the total sum to zero\n",
    "    index = 0  # Start with the first index\n",
    "    while index < len(lst):\n",
    "        total += lst[index]  # Add the element at the current index to the total\n",
    "        index += 1  # Move to the next index\n",
    "    return total\n",
    "\n",
    "\n",
    "# Test the function\n",
    "numbers = [1, 2, 3, 4, 5]\n",
    "result = sum_of_list_elements_while(numbers)\n",
    "print(result)  # Output: 15"
   ]
  },
  {
   "cell_type": "code",
   "execution_count": null,
   "id": "55a1f435",
   "metadata": {},
   "outputs": [],
   "source": [
    "def sum_of_list_elements_comprehension(lst):\n",
    "    \"\"\"\n",
    "    Calculate the sum of all elements in the input list using a list comprehension.\n",
    "\n",
    "    Parameters:\n",
    "    lst (list): The list containing numerical elements to be summed.\n",
    "\n",
    "    Returns:\n",
    "    int or float: The sum of all elements in the list.\n",
    "    \"\"\"\n",
    "    return sum([element for element in lst])\n",
    "\n",
    "\n",
    "# Test the function\n",
    "numbers = [1, 2, 3, 4, 5]\n",
    "result = sum_of_list_elements_comprehension(numbers)\n",
    "print(result)  # Output: 15"
   ]
  },
  {
   "cell_type": "code",
   "execution_count": null,
   "id": "f49b5525",
   "metadata": {},
   "outputs": [],
   "source": [
    "def find_max_in_list(lst):\n",
    "    \"\"\"\n",
    "    Find the maximum value in the input list using a for loop.\n",
    "\n",
    "    Parameters:\n",
    "    lst (list): The list containing numerical elements to be evaluated.\n",
    "\n",
    "    Returns:\n",
    "    int or float: The maximum value in the list.\n",
    "    \"\"\"\n",
    "    if not lst:  # Check if the list is empty\n",
    "        return None\n",
    "\n",
    "    max_value = lst[0]  # Initialize max_value to the first element in the list\n",
    "    for element in lst:\n",
    "        if element > max_value:  # Compare each element with the current max_value\n",
    "            max_value = element  # Update max_value if the current element is greater\n",
    "    return max_value\n",
    "\n",
    "\n",
    "# Test the function\n",
    "numbers = [1, 2, 3, 4, 5, 0, -1]\n",
    "result = find_max_in_list(numbers)\n",
    "print(result)  # Output: 5"
   ]
  },
  {
   "cell_type": "code",
   "execution_count": null,
   "id": "e9df0d81",
   "metadata": {},
   "outputs": [],
   "source": [
    "def find_max_in_list_while(lst):\n",
    "    \"\"\"\n",
    "    Find the maximum value in the input list using a while loop.\n",
    "\n",
    "    Parameters:\n",
    "    lst (list): The list containing numerical elements to be evaluated.\n",
    "\n",
    "    Returns:\n",
    "    int or float: The maximum value in the list.\n",
    "    \"\"\"\n",
    "    if not lst:  # Check if the list is empty\n",
    "        return None\n",
    "\n",
    "    max_value = lst[0]  # Initialize max_value to the first element in the list\n",
    "    index = 1  # Start from the second element\n",
    "    while index < len(lst):\n",
    "        if lst[index] > max_value:  # Compare each element with the current max_value\n",
    "            max_value = lst[index]  # Update max_value if the current element is greater\n",
    "        index += 1  # Move to the next index\n",
    "    return max_value\n",
    "\n",
    "\n",
    "# Test the function\n",
    "numbers = [1, 2, 3, 4, 5, 0, -1]\n",
    "result = find_max_in_list_while(numbers)\n",
    "print(result)  # Output: 5"
   ]
  },
  {
   "cell_type": "code",
   "execution_count": null,
   "id": "a8c66830",
   "metadata": {},
   "outputs": [],
   "source": [
    "def find_max_in_list_builtin(lst):\n",
    "    \"\"\"\n",
    "    Find the maximum value in the input list using Python's built-in max() function.\n",
    "\n",
    "    Parameters:\n",
    "    lst (list): The list containing numerical elements to be evaluated.\n",
    "\n",
    "    Returns:\n",
    "    int or float: The maximum value in the list.\n",
    "    \"\"\"\n",
    "    return max(lst) if lst else None\n",
    "\n",
    "\n",
    "# Test the function\n",
    "numbers = [1, 2, 3, 4, 5, 0, -1]\n",
    "result = find_max_in_list_builtin(numbers)\n",
    "print(result)  # Output: 5"
   ]
  },
  {
   "cell_type": "code",
   "execution_count": null,
   "id": "7bb2e28c",
   "metadata": {},
   "outputs": [],
   "source": [
    "def fibonacci_sequence(n):\n",
    "    \"\"\"\n",
    "    Print the Fibonacci sequence up to n terms.\n",
    "\n",
    "    Parameters:\n",
    "    n (int): The number of terms to print.\n",
    "    \n",
    "    Returns:\n",
    "    list: The Fibonacci sequence up to n terms.\n",
    "    \"\"\"\n",
    "    if n <= 0:\n",
    "        return []\n",
    "\n",
    "    sequence = [0]  # Initialize the sequence with the first term\n",
    "    if n > 1:\n",
    "        sequence.append(1)  # Add the second term if n is greater than 1\n",
    "\n",
    "    for i in range(2, n):\n",
    "        next_term = sequence[i - 1] + sequence[i - 2]  # Calculate the next term\n",
    "        sequence.append(next_term)  # Append the next term to the sequence\n",
    "\n",
    "    return sequence\n",
    "\n",
    "\n",
    "# Test the function\n",
    "num_terms = 10\n",
    "fibonacci_seq = fibonacci_sequence(num_terms)\n",
    "print(fibonacci_seq)  # Output: [0, 1, 1, 2, 3, 5, 8, 13, 21, 34]\n"
   ]
  },
  {
   "cell_type": "code",
   "execution_count": null,
   "id": "7c6dfbeb",
   "metadata": {},
   "outputs": [],
   "source": [
    "def fibonacci_sequence_while(n):\n",
    "    \"\"\"\n",
    "    Print the Fibonacci sequence up to n terms using a while loop.\n",
    "\n",
    "    Parameters:\n",
    "    n (int): The number of terms to print.\n",
    "    \n",
    "    Returns:\n",
    "    list: The Fibonacci sequence up to n terms.\n",
    "    \"\"\"\n",
    "    if n <= 0:\n",
    "        return []\n",
    "\n",
    "    sequence = [0]  # Initialize the sequence with the first term\n",
    "    if n > 1:\n",
    "        sequence.append(1)  # Add the second term if n is greater than 1\n",
    "\n",
    "    i = 2  # Start from the third term\n",
    "    while i < n:\n",
    "        next_term = sequence[i - 1] + sequence[i - 2]  # Calculate the next term\n",
    "        sequence.append(next_term)  # Append the next term to the sequence\n",
    "        i += 1  # Move to the next index\n",
    "\n",
    "    return sequence\n",
    "\n",
    "\n",
    "# Test the function\n",
    "num_terms = 10\n",
    "fibonacci_seq = fibonacci_sequence_while(num_terms)\n",
    "print(fibonacci_seq)  # Output: [0, 1, 1, 2, 3, 5, 8, 13, 21, 34]"
   ]
  },
  {
   "cell_type": "code",
   "execution_count": null,
   "id": "894213ab",
   "metadata": {},
   "outputs": [],
   "source": [
    "def print_squares(lst):\n",
    "    \"\"\"\n",
    "    Print the square of each number in the input list using a for loop.\n",
    "\n",
    "    Parameters:\n",
    "    lst (list): The list containing numerical elements to be squared.\n",
    "    \n",
    "    Returns:\n",
    "    list: A list of squares of the input numbers.\n",
    "    \"\"\"\n",
    "    squares = []  # Initialize an empty list to store squares\n",
    "    for num in lst:\n",
    "        square = num ** 2  # Calculate the square of the number\n",
    "        squares.append(square)  # Append the square to the list\n",
    "        print(square)  # Print the square\n",
    "    return squares\n",
    "\n",
    "\n",
    "# Test the function\n",
    "numbers = [1, 2, 3, 4, 5]\n",
    "squares_list = print_squares(numbers)  # Output: 1 4 9 16 25\n",
    "print(squares_list)  # Output: [1, 4, 9, 16, 25]"
   ]
  },
  {
   "cell_type": "code",
   "execution_count": null,
   "id": "4b088c22",
   "metadata": {},
   "outputs": [],
   "source": [
    "def print_squares_while(lst):\n",
    "    \"\"\"\n",
    "    Print the square of each number in the input list using a while loop.\n",
    "\n",
    "    Parameters:\n",
    "    lst (list): The list containing numerical elements to be squared.\n",
    "    \n",
    "    Returns:\n",
    "    list: A list of squares of the input numbers.\n",
    "    \"\"\"\n",
    "    squares = []  # Initialize an empty list to store squares\n",
    "    index = 0  # Start with the first index\n",
    "    while index < len(lst):\n",
    "        square = lst[index] ** 2  # Calculate the square of the number\n",
    "        squares.append(square)  # Append the square to the list\n",
    "        print(square)  # Print the square\n",
    "        index += 1  # Move to the next index\n",
    "    return squares\n",
    "\n",
    "\n",
    "# Test the function\n",
    "numbers = [1, 2, 3, 4, 5]\n",
    "squares_list = print_squares_while(numbers)  # Output: 1 4 9 16 25\n",
    "print(squares_list)  # Output: [1, 4, 9, 16, 25]"
   ]
  },
  {
   "cell_type": "code",
   "execution_count": null,
   "id": "78d10b57",
   "metadata": {},
   "outputs": [],
   "source": [
    "def get_squares_comprehension(lst):\n",
    "    \"\"\"\n",
    "    Get the square of each number in the input list using list comprehension.\n",
    "\n",
    "    Parameters:\n",
    "    lst (list): The list containing numerical elements to be squared.\n",
    "    \n",
    "    Returns:\n",
    "    list: A list of squares of the input numbers.\n",
    "    \"\"\"\n",
    "    return [num ** 2 for num in lst]\n",
    "\n",
    "\n",
    "def print_squares_comprehension(lst):\n",
    "    \"\"\"\n",
    "    Print the squares of each number in the input list using get_squares_comprehension.\n",
    "\n",
    "    Parameters:\n",
    "    lst (list): The list of numbers to square and print.\n",
    "\n",
    "    Returns:\n",
    "    None\n",
    "    \"\"\"\n",
    "    squares = get_squares_comprehension(lst)\n",
    "    for square in squares:\n",
    "        print(square)  # Print each square\n",
    "\n",
    "\n",
    "# Test the function\n",
    "numbers = [1, 2, 3, 4, 5]\n",
    "print_squares_comprehension(numbers)  # Output: 1 4 9 16 25\n",
    "squares_list = get_squares_comprehension(numbers)\n",
    "print(squares_list)  # Output: [1, 4, 9, 16, 25]"
   ]
  },
  {
   "cell_type": "code",
   "execution_count": null,
   "id": "1d063f36",
   "metadata": {},
   "outputs": [],
   "source": [
    "def count_vowels(s):\n",
    "    \"\"\"\n",
    "    Count the number of vowels in the input string using a for loop.\n",
    "\n",
    "    Parameters:\n",
    "    s (str): The string in which to count vowels.\n",
    "    \n",
    "    Returns:\n",
    "    int: The number of vowels in the string.\n",
    "    \"\"\"\n",
    "    vowels = \"aeiouAEIOU\"  # Define the set of vowels\n",
    "    count = 0  # Initialize the vowel count to zero\n",
    "    \n",
    "    for char in s:\n",
    "        if char in vowels:  # Check if the character is a vowel\n",
    "            count += 1  # Increment the count if it is a vowel\n",
    "\n",
    "    return count\n",
    "\n",
    "# Test the function\n",
    "test_string = \"Hello World\"\n",
    "vowel_count = count_vowels(test_string)\n",
    "print(f\"The number of vowels in '{test_string}' is {vowel_count}.\")"
   ]
  },
  {
   "cell_type": "code",
   "execution_count": null,
   "id": "c98b36d5",
   "metadata": {},
   "outputs": [],
   "source": [
    "def count_vowels_while(s):\n",
    "    \"\"\"\n",
    "    Count the number of vowels in the input string using a while loop.\n",
    "\n",
    "    Parameters:\n",
    "    s (str): The string in which to count vowels.\n",
    "    \n",
    "    Returns:\n",
    "    int: The number of vowels in the string.\n",
    "    \"\"\"\n",
    "    vowels = \"aeiouAEIOU\"  # Define the set of vowels\n",
    "    count = 0  # Initialize the vowel count to zero\n",
    "    index = 0  # Start with the first index\n",
    "\n",
    "    while index < len(s):\n",
    "        if s[index] in vowels:  # Check if the character at the current index is a vowel\n",
    "            count += 1  # Increment the count if it is a vowel\n",
    "        index += 1  # Move to the next index\n",
    "\n",
    "    return count\n",
    "\n",
    "\n",
    "# Test the function\n",
    "test_string = \"Hello World\"\n",
    "vowel_count = count_vowels_while(test_string)\n",
    "print(f\"The number of vowels in '{test_string}' is {vowel_count}.\")  # Output: 3\n"
   ]
  },
  {
   "cell_type": "code",
   "execution_count": null,
   "id": "629b1261",
   "metadata": {},
   "outputs": [],
   "source": [
    "def count_vowels_comprehension(s):\n",
    "    \"\"\"\n",
    "    Count the number of vowels in the input string using list comprehension.\n",
    "\n",
    "    Parameters:\n",
    "    s (str): The string in which to count vowels.\n",
    "    \n",
    "    Returns:\n",
    "    int: The number of vowels in the string.\n",
    "    \"\"\"\n",
    "    vowels = \"aeiouAEIOU\"  # Define the set of vowels\n",
    "    return sum(1 for char in s if char in vowels)  # Use list comprehension to count vowels\n",
    "\n",
    "\n",
    "# Test the function\n",
    "test_string = \"Hello World\"\n",
    "vowel_count = count_vowels_comprehension(test_string)\n",
    "print(f\"The number of vowels in '{test_string}' is {vowel_count}.\")  # Output: 3\n"
   ]
  },
  {
   "cell_type": "code",
   "execution_count": null,
   "id": "251da050",
   "metadata": {},
   "outputs": [],
   "source": [
    "def count_occurrences(s, character):\n",
    "    \"\"\"\n",
    "    Count the occurrences of a specific character in the input string using a for loop.\n",
    "\n",
    "    Parameters:\n",
    "    s (str): The string in which to count occurrences of the character.\n",
    "    character (str): The character to count.\n",
    "\n",
    "    Returns:\n",
    "    int: The number of occurrences of the character in the string.\n",
    "    \"\"\"\n",
    "    count = 0  # Initialize the count to zero\n",
    "\n",
    "    for char in s:\n",
    "        if char == character:  # Check if the character matches the specific character\n",
    "            count += 1  # Increment the count if it matches\n",
    "\n",
    "    return count\n",
    "\n",
    "\n",
    "# Test the function\n",
    "test_string = \"Hello World\"\n",
    "character_to_count = \"o\"\n",
    "occurrences = count_occurrences(test_string, character_to_count)\n",
    "print(f\"The character '{character_to_count}' appears {occurrences} times in '{test_string}'.\")  # Output: 2\n"
   ]
  },
  {
   "cell_type": "code",
   "execution_count": null,
   "id": "a75f307e",
   "metadata": {},
   "outputs": [],
   "source": [
    "def count_occurrences_while(s, character):\n",
    "    \"\"\"\n",
    "    Count the occurrences of a specific character in the input string using a while loop.\n",
    "\n",
    "    Parameters:\n",
    "    s (str): The string in which to count occurrences of the character.\n",
    "    character (str): The character to count.\n",
    "\n",
    "    Returns:\n",
    "    int: The number of occurrences of the character in the string.\n",
    "    \"\"\"\n",
    "    count = 0  # Initialize the count to zero\n",
    "    index = 0  # Start with the first index\n",
    "\n",
    "    while index < len(s):\n",
    "        if s[index] == character:  # Check if the character at the current index matches the specific character\n",
    "            count += 1  # Increment the count if it matches\n",
    "        index += 1  # Move to the next index\n",
    "\n",
    "    return count\n",
    "\n",
    "\n",
    "# Test the function\n",
    "test_string = \"Hello World\"\n",
    "character_to_count = \"o\"\n",
    "occurrences = count_occurrences_while(test_string, character_to_count)\n",
    "print(f\"The character '{character_to_count}' appears {occurrences} times in '{test_string}'.\")  # Output: 2\n"
   ]
  },
  {
   "cell_type": "code",
   "execution_count": null,
   "id": "5c200e9d",
   "metadata": {},
   "outputs": [],
   "source": [
    "def count_occurrences_comprehension(s, character):\n",
    "    \"\"\"\n",
    "    Count the occurrences of a specific character in the input string using list comprehension.\n",
    "\n",
    "    Parameters:\n",
    "    s (str): The string in which to count occurrences of the character.\n",
    "    character (str): The character to count.\n",
    "\n",
    "    Returns:\n",
    "    int: The number of occurrences of the character in the string.\n",
    "    \"\"\"\n",
    "    return sum(1 for char in s if char == character)  # Use list comprehension to count occurrences\n",
    "\n",
    "\n",
    "# Test the function\n",
    "test_string = \"Hello World\"\n",
    "character_to_count = \"o\"\n",
    "occurrences = count_occurrences_comprehension(test_string, character_to_count)\n",
    "print(f\"The character '{character_to_count}' appears {occurrences} times in '{test_string}'.\")  # Output: 2"
   ]
  },
  {
   "cell_type": "code",
   "execution_count": null,
   "id": "628d7441",
   "metadata": {},
   "outputs": [],
   "source": [
    "def count_occurrences_builtin(s, character):\n",
    "    \"\"\"\n",
    "    Count the occurrences of a specific character in the input string using the built-in string method.\n",
    "\n",
    "    Parameters:\n",
    "    s (str): The string in which to count occurrences of the character.\n",
    "    character (str): The character to count.\n",
    "\n",
    "    Returns:\n",
    "    int: The number of occurrences of the character in the string.\n",
    "    \"\"\"\n",
    "    return s.count(character)\n",
    "\n",
    "\n",
    "# Test the function\n",
    "test_string = \"Hello World\"\n",
    "character_to_count = \"o\"\n",
    "occurrences = count_occurrences_builtin(test_string, character_to_count)\n",
    "print(f\"The character '{character_to_count}' appears {occurrences} times in '{test_string}'.\")  # Output: 2\n"
   ]
  },
  {
   "cell_type": "code",
   "execution_count": null,
   "id": "10d19fc1",
   "metadata": {},
   "outputs": [],
   "source": [
    "def print_multiples(n):\n",
    "    \"\"\"\n",
    "    Print the first 10 multiples of the given number using a for loop.\n",
    "\n",
    "    Parameters:\n",
    "    n (int): The number for which to print the multiples.\n",
    "    \n",
    "    Returns:\n",
    "    list: A list of the first 10 multiples of the given number.\n",
    "    \"\"\"\n",
    "    multiples = []  # Initialize an empty list to store the multiples\n",
    "\n",
    "    for i in range(1, 11):  # Loop from 1 to 10\n",
    "        multiple = n * i  # Calculate the multiple\n",
    "        multiples.append(multiple)  # Append the multiple to the list\n",
    "        print(multiple)  # Print the multiple\n",
    "\n",
    "    return multiples\n",
    "\n",
    "\n",
    "# Test the function\n",
    "number = 7\n",
    "multiples_list = print_multiples(number)  # Output: 7 14 21 28 35 42 49 56 63 70\n",
    "print(multiples_list)  # Output: [7, 14, 21, 28, 35, 42, 49, 56, 63, 70]\n"
   ]
  },
  {
   "cell_type": "code",
   "execution_count": null,
   "id": "577716eb",
   "metadata": {},
   "outputs": [],
   "source": [
    "def print_multiples_while(n):\n",
    "    \"\"\"\n",
    "    Print the first 10 multiples of the given number using a while loop.\n",
    "\n",
    "    Parameters:\n",
    "    n (int): The number for which to print the multiples.\n",
    "\n",
    "    Returns:\n",
    "    list: A list of the first 10 multiples of the given number.\n",
    "    \"\"\"\n",
    "    multiples = []  # Initialize an empty list to store the multiples\n",
    "    count = 1  # Start the count at 1\n",
    "\n",
    "    while count <= 10:\n",
    "        multiple = n * count  # Calculate the multiple\n",
    "        multiples.append(multiple)  # Append the multiple to the list\n",
    "        print(multiple)  # Print the multiple\n",
    "        count += 1  # Increment the count\n",
    "\n",
    "    return multiples\n",
    "\n",
    "\n",
    "# Test the function\n",
    "number = 7\n",
    "multiples_list = print_multiples_while(number)  # Output: 7 14 21 28 35 42 49 56 63 70\n",
    "print(multiples_list)  # Output: [7, 14, 21, 28, 35, 42, 49, 56, 63, 70]\n"
   ]
  },
  {
   "cell_type": "code",
   "execution_count": null,
   "id": "6221943d",
   "metadata": {},
   "outputs": [],
   "source": [
    "def get_multiples_comprehension(n):\n",
    "    \"\"\"\n",
    "    Get the first 10 multiples of the given number using list comprehension.\n",
    "\n",
    "    Parameters:\n",
    "    n (int): The number for which to get the multiples.\n",
    "\n",
    "    Returns:\n",
    "    list: A list of the first 10 multiples of the given number.\n",
    "    \"\"\"\n",
    "    return [n * i for i in range(1, 11)]  # Use list comprehension to generate multiples\n",
    "\n",
    "\n",
    "def print_multiples_comprehension(n):\n",
    "    \"\"\"\n",
    "    Print the first 10 multiples of the given number using get_multiples_comprehension.\n",
    "\n",
    "    Parameters:\n",
    "    n (int): The number for which to print the multiples.\n",
    "\n",
    "    Returns:\n",
    "    list: A list of the first 10 multiples of the given number.\n",
    "    \"\"\"\n",
    "    multiples = get_multiples_comprehension(n)\n",
    "    for multiple in multiples:\n",
    "        print(multiple)  # Print each multiple\n",
    "\n",
    "    return multiples\n",
    "\n",
    "\n",
    "# Test the function\n",
    "number = 7\n",
    "multiples_list = print_multiples_comprehension(number)  # Output: 7 14 21 28 35 42 49 56 63 70\n",
    "print(multiples_list)  # Output: [7, 14, 21, 28, 35, 42, 49, 56, 63, 70]\n"
   ]
  }
 ],
 "metadata": {
  "kernelspec": {
   "display_name": ".venv",
   "language": "python",
   "name": "python3"
  },
  "language_info": {
   "codemirror_mode": {
    "name": "ipython",
    "version": 3
   },
   "file_extension": ".py",
   "mimetype": "text/x-python",
   "name": "python",
   "nbconvert_exporter": "python",
   "pygments_lexer": "ipython3",
   "version": "3.12.0"
  }
 },
 "nbformat": 4,
 "nbformat_minor": 5
}
