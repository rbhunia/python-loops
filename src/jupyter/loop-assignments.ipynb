{
 "cells": [
  {
   "metadata": {
    "ExecuteTime": {
     "end_time": "2024-11-03T20:29:08.595954Z",
     "start_time": "2024-11-03T20:29:08.586389Z"
    }
   },
   "cell_type": "code",
   "source": [
    "# Function to calculate the sum of all natural numbers up to n\n",
    "# Arguments:\n",
    "# n (int): The upper limit of the range of natural numbers.\n",
    "# Returns:\n",
    "# int: The sum of all natural numbers up to n.\n",
    "def sum_of_natural_numbers(n):\n",
    "    return n * (n + 1) // 2\n",
    "\n",
    "# Example usage\n",
    "limit = 10  # You can change this limit to any desired number\n",
    "# Calculating the sum\n",
    "# Arguments:\n",
    "# limit (int): The upper limit of the range of natural numbers for the example usage.\n",
    "total_sum = sum_of_natural_numbers(limit)\n",
    "print(f\"The sum of all natural numbers up to {limit} is {total_sum}\")"
   ],
   "id": "7f73b03a885ff428",
   "outputs": [
    {
     "name": "stdout",
     "output_type": "stream",
     "text": [
      "The sum of all natural numbers up to 10 is 55\n"
     ]
    }
   ],
   "execution_count": 4
  },
  {
   "metadata": {
    "ExecuteTime": {
     "end_time": "2024-11-03T20:36:36.203341Z",
     "start_time": "2024-11-03T20:36:36.192989Z"
    }
   },
   "cell_type": "code",
   "source": [
    "# %%\n",
    "# Function to print the multiplication table for a given number\n",
    "def print_multiplication_table(number):\n",
    "    \"\"\"\n",
    "    Prints the multiplication table for the specified number up to 10.\n",
    "\n",
    "    Parameters:\n",
    "    number (int): The number for which to generate the multiplication table.\n",
    "\n",
    "    Returns:\n",
    "    None\n",
    "    \"\"\"\n",
    "    for i in range(1, 11):\n",
    "        print(f\"{number} x {i} = {number * i}\")\n",
    "\n",
    "\n",
    "# Example usage\n",
    "num = 5  # You can change this number to any desired value\n",
    "print(f\"Multiplication table for {num}:\")\n",
    "print_multiplication_table(num)\n"
   ],
   "id": "c773d20a6be7f55f",
   "outputs": [
    {
     "name": "stdout",
     "output_type": "stream",
     "text": [
      "Multiplication table for 5:\n",
      "5 x 1 = 5\n",
      "5 x 2 = 10\n",
      "5 x 3 = 15\n",
      "5 x 4 = 20\n",
      "5 x 5 = 25\n",
      "5 x 6 = 30\n",
      "5 x 7 = 35\n",
      "5 x 8 = 40\n",
      "5 x 9 = 45\n",
      "5 x 10 = 50\n"
     ]
    }
   ],
   "execution_count": 5
  }
 ],
 "metadata": {
  "kernelspec": {
   "display_name": "Python 3",
   "language": "python",
   "name": "python3"
  },
  "language_info": {
   "codemirror_mode": {
    "name": "ipython",
    "version": 2
   },
   "file_extension": ".py",
   "mimetype": "text/x-python",
   "name": "python",
   "nbconvert_exporter": "python",
   "pygments_lexer": "ipython2",
   "version": "2.7.6"
  }
 },
 "nbformat": 4,
 "nbformat_minor": 5
}
