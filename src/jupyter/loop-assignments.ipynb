{
 "cells": [
  {
   "metadata": {
    "ExecuteTime": {
     "end_time": "2024-11-03T20:29:08.595954Z",
     "start_time": "2024-11-03T20:29:08.586389Z"
    }
   },
   "cell_type": "code",
   "source": [
    "# Function to calculate the sum of all natural numbers up to n\n",
    "# Arguments:\n",
    "# n (int): The upper limit of the range of natural numbers.\n",
    "# Returns:\n",
    "# int: The sum of all natural numbers up to n.\n",
    "def sum_of_natural_numbers(n):\n",
    "    return n * (n + 1) // 2\n",
    "\n",
    "# Example usage\n",
    "limit = 10  # You can change this limit to any desired number\n",
    "# Calculating the sum\n",
    "# Arguments:\n",
    "# limit (int): The upper limit of the range of natural numbers for the example usage.\n",
    "total_sum = sum_of_natural_numbers(limit)\n",
    "print(f\"The sum of all natural numbers up to {limit} is {total_sum}\")"
   ],
   "id": "7f73b03a885ff428",
   "outputs": [
    {
     "name": "stdout",
     "output_type": "stream",
     "text": [
      "The sum of all natural numbers up to 10 is 55\n"
     ]
    }
   ],
   "execution_count": 4
  }
 ],
 "metadata": {
  "kernelspec": {
   "display_name": "Python 3",
   "language": "python",
   "name": "python3"
  },
  "language_info": {
   "codemirror_mode": {
    "name": "ipython",
    "version": 2
   },
   "file_extension": ".py",
   "mimetype": "text/x-python",
   "name": "python",
   "nbconvert_exporter": "python",
   "pygments_lexer": "ipython2",
   "version": "2.7.6"
  }
 },
 "nbformat": 4,
 "nbformat_minor": 5
}
