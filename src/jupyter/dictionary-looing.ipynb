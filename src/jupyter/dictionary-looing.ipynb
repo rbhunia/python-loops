{
 "cells": [
  {
   "cell_type": "code",
   "execution_count": 2,
   "metadata": {},
   "outputs": [
    {
     "name": "stdout",
     "output_type": "stream",
     "text": [
      "Alice\n",
      "Bob\n",
      "Charlie\n"
     ]
    }
   ],
   "source": [
    "ages = {'Alice': 25, 'Bob': 30, 'Charlie': 35}\n",
    "\n",
    "for key in ages.keys():\n",
    "    print(key)"
   ]
  },
  {
   "cell_type": "code",
   "execution_count": 3,
   "metadata": {},
   "outputs": [
    {
     "name": "stdout",
     "output_type": "stream",
     "text": [
      "25\n",
      "30\n",
      "35\n"
     ]
    }
   ],
   "source": [
    "for value in ages.values():\n",
    "    print(value)"
   ]
  },
  {
   "cell_type": "code",
   "execution_count": 4,
   "metadata": {},
   "outputs": [
    {
     "name": "stdout",
     "output_type": "stream",
     "text": [
      "Alice 25\n",
      "Bob 30\n",
      "Charlie 35\n"
     ]
    }
   ],
   "source": [
    "for key, value in ages.items():\n",
    "    print(key, value)"
   ]
  },
  {
   "cell_type": "code",
   "execution_count": 5,
   "metadata": {},
   "outputs": [
    {
     "name": "stdout",
     "output_type": "stream",
     "text": [
      "Alice\n",
      "Bob\n",
      "Charlie\n"
     ]
    }
   ],
   "source": [
    "for key in ages:\n",
    "    print(key)"
   ]
  },
  {
   "cell_type": "code",
   "execution_count": 7,
   "metadata": {},
   "outputs": [
    {
     "name": "stdout",
     "output_type": "stream",
     "text": [
      "dict_items([('Alice', 25), ('Bob', 30), ('Charlie', 35)])\n",
      "<class 'dict_items'>\n"
     ]
    }
   ],
   "source": [
    "print(ages.items())\n",
    "print(type(ages.items()))"
   ]
  },
  {
   "cell_type": "code",
   "execution_count": 9,
   "metadata": {},
   "outputs": [
    {
     "name": "stdout",
     "output_type": "stream",
     "text": [
      "<enumerate object at 0x1186545e0>\n",
      "<class 'enumerate'>\n"
     ]
    }
   ],
   "source": [
    "print(enumerate(ages.items()))\n",
    "print(type(enumerate(ages.items())))"
   ]
  },
  {
   "cell_type": "code",
   "execution_count": 10,
   "metadata": {},
   "outputs": [
    {
     "name": "stdout",
     "output_type": "stream",
     "text": [
      "0 Alice 25\n",
      "1 Bob 30\n",
      "2 Charlie 35\n"
     ]
    }
   ],
   "source": [
    "ages = {'Alice': 25, 'Bob': 30, 'Charlie': 35}\n",
    "\n",
    "for index, (key, value) in enumerate(ages.items()):\n",
    "    print(index, key, value)"
   ]
  },
  {
   "cell_type": "code",
   "execution_count": 11,
   "metadata": {},
   "outputs": [
    {
     "name": "stdout",
     "output_type": "stream",
     "text": [
      "Age of Alice is 25\n",
      "Age of Charlie is 35\n"
     ]
    }
   ],
   "source": [
    "ages = {'Alice': 25, 'Bob': 30, 'Charlie': 35, 'David': 40}\n",
    "keys_to_check = ['Alice', 'Charlie', 'Eve']\n",
    "\n",
    "for key in ages.keys():\n",
    "    if key in keys_to_check:\n",
    "        print(f\"Age of {key} is {ages[key]}\")\n"
   ]
  },
  {
   "cell_type": "code",
   "execution_count": 12,
   "metadata": {},
   "outputs": [
    {
     "name": "stdout",
     "output_type": "stream",
     "text": [
      "Age 35 is greater than 30\n",
      "Age 35 is greater than 30\n"
     ]
    }
   ],
   "source": [
    "for age in ages.values():\n",
    "    if age > 30:\n",
    "        print(f\"Age {value} is greater than 30\")\n"
   ]
  },
  {
   "cell_type": "code",
   "execution_count": 15,
   "metadata": {},
   "outputs": [
    {
     "name": "stdout",
     "output_type": "stream",
     "text": [
      "{'Alice': 30, 'Bob': 35, 'Charlie': 40, 'David': 45}\n"
     ]
    }
   ],
   "source": [
    "new_ages = {key : value + 5 for key, value in ages.items()}\n",
    "print(new_ages)"
   ]
  },
  {
   "cell_type": "code",
   "execution_count": 17,
   "metadata": {},
   "outputs": [
    {
     "name": "stdout",
     "output_type": "stream",
     "text": [
      "{'Charlie': 40, 'David': 45}\n"
     ]
    }
   ],
   "source": [
    "new_ages = {key: value + 5 for key, value in ages.items() if value >= 35}\n",
    "print(new_ages)"
   ]
  },
  {
   "cell_type": "code",
   "execution_count": 18,
   "metadata": {},
   "outputs": [
    {
     "name": "stdout",
     "output_type": "stream",
     "text": [
      "0 Alice\n",
      "1 Bob\n",
      "2 Charlie\n",
      "3 David\n"
     ]
    }
   ],
   "source": [
    "for index, key in enumerate(ages.keys()):\n",
    "    print(index, key)"
   ]
  },
  {
   "cell_type": "code",
   "execution_count": 19,
   "metadata": {},
   "outputs": [
    {
     "name": "stdout",
     "output_type": "stream",
     "text": [
      "0 25\n",
      "1 30\n",
      "2 35\n",
      "3 40\n"
     ]
    }
   ],
   "source": [
    "for index, value in enumerate(ages.values()):\n",
    "    print(index, value)"
   ]
  },
  {
   "cell_type": "code",
   "execution_count": 20,
   "metadata": {},
   "outputs": [
    {
     "name": "stdout",
     "output_type": "stream",
     "text": [
      "0 Alice 25\n",
      "1 Bob 30\n",
      "2 Charlie 35\n",
      "3 David 40\n"
     ]
    }
   ],
   "source": [
    "for index, (key, value) in enumerate(ages.items()):\n",
    "    print(index, key, value)"
   ]
  },
  {
   "cell_type": "code",
   "execution_count": null,
   "metadata": {},
   "outputs": [],
   "source": []
  }
 ],
 "metadata": {
  "kernelspec": {
   "display_name": ".venv",
   "language": "python",
   "name": "python3"
  },
  "language_info": {
   "codemirror_mode": {
    "name": "ipython",
    "version": 3
   },
   "file_extension": ".py",
   "mimetype": "text/x-python",
   "name": "python",
   "nbconvert_exporter": "python",
   "pygments_lexer": "ipython3",
   "version": "3.12.0"
  }
 },
 "nbformat": 4,
 "nbformat_minor": 2
}
